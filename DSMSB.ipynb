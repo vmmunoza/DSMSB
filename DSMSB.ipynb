{
 "cells": [
  {
   "cell_type": "markdown",
   "metadata": {},
   "source": [
    " # <span style=\"color:OrangeRed\">Diffuse Supermassive Star $\\nu$ Background Animation </span>\n",
    "\n",
    "**This notebook contains a simple animation of the possible neutrino flux spectrum generated from the cosmological history of  supermassives stars collapse.**\n",
    "\n",
    "**Inside a collapsing supermassive star, neutrinos can be emitted with a temperature within a range of about 0.5-10.0 [MeV].**\n",
    "\n",
    "**Run the code below to explore how does the spectrum changes with the temperature !**"
   ]
  },
  {
   "cell_type": "code",
   "execution_count": 1,
   "metadata": {},
   "outputs": [],
   "source": [
    "# Load packages to be used\n",
    "import numpy as np\n",
    "import pandas as pd\n",
    "import matplotlib.pyplot as plt\n",
    "import ipywidgets as widgets\n",
    "from ipywidgets import interactive, interact"
   ]
  },
  {
   "cell_type": "code",
   "execution_count": 2,
   "metadata": {},
   "outputs": [],
   "source": [
    "plt.style.use('dark_background')"
   ]
  },
  {
   "cell_type": "code",
   "execution_count": 3,
   "metadata": {},
   "outputs": [
    {
     "data": {
      "text/html": [
       "<div>\n",
       "<style scoped>\n",
       "    .dataframe tbody tr th:only-of-type {\n",
       "        vertical-align: middle;\n",
       "    }\n",
       "\n",
       "    .dataframe tbody tr th {\n",
       "        vertical-align: top;\n",
       "    }\n",
       "\n",
       "    .dataframe thead th {\n",
       "        text-align: right;\n",
       "    }\n",
       "</style>\n",
       "<table border=\"1\" class=\"dataframe\">\n",
       "  <thead>\n",
       "    <tr style=\"text-align: right;\">\n",
       "      <th></th>\n",
       "      <th>E</th>\n",
       "      <th>Flx</th>\n",
       "      <th>Temp</th>\n",
       "    </tr>\n",
       "  </thead>\n",
       "  <tbody>\n",
       "    <tr>\n",
       "      <th>0</th>\n",
       "      <td>0.100000</td>\n",
       "      <td>11.511641</td>\n",
       "      <td>0.5</td>\n",
       "    </tr>\n",
       "    <tr>\n",
       "      <th>1</th>\n",
       "      <td>0.124961</td>\n",
       "      <td>17.657828</td>\n",
       "      <td>0.5</td>\n",
       "    </tr>\n",
       "    <tr>\n",
       "      <th>2</th>\n",
       "      <td>0.156152</td>\n",
       "      <td>26.906042</td>\n",
       "      <td>0.5</td>\n",
       "    </tr>\n",
       "    <tr>\n",
       "      <th>3</th>\n",
       "      <td>0.195129</td>\n",
       "      <td>40.597677</td>\n",
       "      <td>0.5</td>\n",
       "    </tr>\n",
       "    <tr>\n",
       "      <th>4</th>\n",
       "      <td>0.243835</td>\n",
       "      <td>60.353578</td>\n",
       "      <td>0.5</td>\n",
       "    </tr>\n",
       "  </tbody>\n",
       "</table>\n",
       "</div>"
      ],
      "text/plain": [
       "          E        Flx  Temp\n",
       "0  0.100000  11.511641   0.5\n",
       "1  0.124961  17.657828   0.5\n",
       "2  0.156152  26.906042   0.5\n",
       "3  0.195129  40.597677   0.5\n",
       "4  0.243835  60.353578   0.5"
      ]
     },
     "execution_count": 3,
     "metadata": {},
     "output_type": "execute_result"
    }
   ],
   "source": [
    "# Load the data used to create the animation and create a data frame\n",
    "E,Flx,Temp= np.transpose(np.loadtxt(r'DiffFlx_T_Grid.dat' ))\n",
    "df_SMS= pd.DataFrame.from_dict({'E':E, 'Flx': Flx, 'Temp': Temp})\n",
    "df_SMS.head()"
   ]
  },
  {
   "cell_type": "code",
   "execution_count": 4,
   "metadata": {},
   "outputs": [],
   "source": [
    "# Define a function that makes a plot of the neutrino flux for a fixed temperature\n",
    "\n",
    "def plot_DSMSB(Temperature):\n",
    "    \n",
    "    T_val=Temperature\n",
    "    \n",
    "    # Filter the df:\n",
    "    df_TMP2=df_SMS[df_SMS['Temp'] == T_val]\n",
    "    flujo=df_TMP2['Flx']\n",
    "    energia=df_TMP2['E']\n",
    "    \n",
    "    minE=min(energia)\n",
    "    maxE=max(energia)\n",
    "    T_val_str=round(T_val,2)\n",
    "    \n",
    "    # Plot the result\n",
    "    fig,ax=plt.subplots(figsize=(9,6))\n",
    "    plt.title('Diffuse Supermassive Star Neutrino Background',fontsize=15,fontweight=\"bold\")\n",
    "    plt.xlabel('Energy  [MeV]',fontsize=20)\n",
    "    plt.ylabel('Flux  [cm$^{-2}$ s$^{-1}$ MeV$^{-1}$]',fontsize=20)\n",
    "    \n",
    "    plt.plot(energia,flujo,linewidth=2.,color='#F05D23',label='T =' +str(T_val_str)+' [MeV]')\n",
    "    plt.fill_between(energia,1e-10,flujo,color='#F05D23', alpha=0.5)\n",
    "    plt.legend(loc='upper right',fontsize=17, frameon=False)\n",
    "    \n",
    "    plt.yticks(ticks=[min(flujo),max(flujo)],labels=[min(flujo),max(flujo)],fontweight='normal',fontsize=15)\n",
    "    plt.xticks(ticks=[min(energia),max(energia)],labels=[min(energia),max(energia)],fontweight='normal',fontsize=15)\n",
    "    plt.ylim([1e-6,1e4])\n",
    "    plt.xlim([minE,1e2])\n",
    "    \n",
    "    plt.loglog()\n",
    "    plt.show()"
   ]
  },
  {
   "cell_type": "code",
   "execution_count": 5,
   "metadata": {},
   "outputs": [
    {
     "data": {
      "application/vnd.jupyter.widget-view+json": {
       "model_id": "210489d8cb35443b819b53decc933b63",
       "version_major": 2,
       "version_minor": 0
      },
      "text/plain": [
       "interactive(children=(SelectionSlider(description='Temperature', options=(('0.50', 0.5), ('0.80', 0.8), ('1.10…"
      ]
     },
     "metadata": {},
     "output_type": "display_data"
    }
   ],
   "source": [
    "# Create interactive plot\n",
    "interactive_plot = interact(plot_DSMSB, Temperature=widgets.SelectionSlider( \n",
    "    options = [(\"{:.2f}\".format(i), i) for i in df_SMS['Temp'].unique()]),\n",
    "    description='Temperature')\n",
    "\n",
    "interactive_plot;"
   ]
  }
 ],
 "metadata": {
  "kernelspec": {
   "display_name": "Python 3",
   "language": "python",
   "name": "python3"
  },
  "language_info": {
   "codemirror_mode": {
    "name": "ipython",
    "version": 3
   },
   "file_extension": ".py",
   "mimetype": "text/x-python",
   "name": "python",
   "nbconvert_exporter": "python",
   "pygments_lexer": "ipython3",
   "version": "3.8.3"
  }
 },
 "nbformat": 4,
 "nbformat_minor": 4
}
